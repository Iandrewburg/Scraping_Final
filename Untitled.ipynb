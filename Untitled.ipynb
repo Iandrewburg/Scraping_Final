{
 "cells": [
  {
   "cell_type": "code",
   "execution_count": 1,
   "id": "e121cbd6-566a-4a2e-a69d-6e1fd917e430",
   "metadata": {
    "tags": []
   },
   "outputs": [],
   "source": [
    "# used in the scraping portion of the project (some of these were used at first, and then failed: selenium was used as primary scraping tool)\n",
    "from scrapethat import *\n",
    "import requests\n",
    "from bs4 import BeautifulSoup\n",
    "import pandas as pd\n",
    "import json\n",
    "import re\n",
    "import json\n",
    "from selenium import webdriver\n",
    "from selenium.webdriver.common.action_chains import ActionChains\n",
    "from selenium.webdriver.support.ui import WebDriverWait\n",
    "from selenium.webdriver.support import expected_conditions as EC\n",
    "from selenium.webdriver.common.by import By\n",
    "from urllib.parse import quote_plus\n",
    "from selenium.common.exceptions import TimeoutException, NoSuchElementException\n",
    "from datetime import datetime, timedelta\n",
    "import os\n",
    "import time\n",
    "\n",
    "# used in the visualization portion of the project\n",
    "import warnings\n",
    "import matplotlib.pyplot as plt\n",
    "import matplotlib.dates as mdates\n",
    "import matplotlib.image as mpimg\n",
    "import seaborn as sns\n",
    "\n",
    "# Importing the following for the data analysis portion of the project\n",
    "import sys\n",
    "import numpy as np\n",
    "from mizani.formatters import percent_format\n",
    "from plotnine import *\n",
    "from datetime import datetime\n",
    "import statsmodels.api as sm\n",
    "import statsmodels.formula.api as smf\n",
    "from scipy.stats import norm\n",
    "from IPython.core.display import HTML\n",
    "from stargazer.stargazer import Stargazer\n",
    "import statsmodels.nonparametric.kernel_regression as loess\n",
    "\n",
    "from mizani.transforms import log_trans\n",
    "from mizani.formatters import percent_format\n",
    "from mizani.formatters import log_format\n"
   ]
  },
  {
   "cell_type": "code",
   "execution_count": null,
   "id": "10bf25c4-fdaa-4d3f-a6b2-4e95a2e5ff53",
   "metadata": {},
   "outputs": [],
   "source": []
  }
 ],
 "metadata": {
  "kernelspec": {
   "display_name": "Python 3 (ipykernel)",
   "language": "python",
   "name": "python3"
  },
  "language_info": {
   "codemirror_mode": {
    "name": "ipython",
    "version": 3
   },
   "file_extension": ".py",
   "mimetype": "text/x-python",
   "name": "python",
   "nbconvert_exporter": "python",
   "pygments_lexer": "ipython3",
   "version": "3.11.4"
  }
 },
 "nbformat": 4,
 "nbformat_minor": 5
}
